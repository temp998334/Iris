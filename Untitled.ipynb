{
 "cells": [
  {
   "cell_type": "code",
   "execution_count": 1,
   "metadata": {},
   "outputs": [],
   "source": [
    "import pandas\n",
    "\n",
    "iris_df = pandas.read_csv(\"Iris.csv\")\n",
    "\n",
    "from sklearn.tree import DecisionTreeClassifier\n",
    "from sklearn2pmml.pipeline import PMMLPipeline\n",
    "\n",
    "iris_pipeline = PMMLPipeline([\n",
    "    (\"classifier\", DecisionTreeClassifier())\n",
    "])\n",
    "iris_pipeline.fit(iris_df[iris_df.columns.difference([\"Species\"])], iris_df[\"Species\"])\n",
    "\n",
    "from sklearn2pmml import sklearn2pmml\n",
    "\n",
    "sklearn2pmml(iris_pipeline, \"DecisionTreeIris.pmml\", with_repr=True)\n"
   ]
  }
 ],
 "metadata": {
  "kernelspec": {
   "display_name": "Python 2",
   "language": "python",
   "name": "python2"
  },
  "language_info": {
   "codemirror_mode": {
    "name": "ipython",
    "version": 2
   },
   "file_extension": ".py",
   "mimetype": "text/x-python",
   "name": "python",
   "nbconvert_exporter": "python",
   "pygments_lexer": "ipython2",
   "version": "2.7.12"
  }
 },
 "nbformat": 4,
 "nbformat_minor": 2
}
